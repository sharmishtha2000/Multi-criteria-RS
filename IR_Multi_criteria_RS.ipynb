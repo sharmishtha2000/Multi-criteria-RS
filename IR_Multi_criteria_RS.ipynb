{
  "nbformat": 4,
  "nbformat_minor": 0,
  "metadata": {
    "colab": {
      "name": "IR_Multi_criteria_RS.ipynb",
      "provenance": []
    },
    "kernelspec": {
      "name": "python3",
      "display_name": "Python 3"
    },
    "language_info": {
      "name": "python"
    }
  },
  "cells": [
    {
      "cell_type": "code",
      "metadata": {
        "colab": {
          "base_uri": "https://localhost:8080/"
        },
        "id": "yLYTMlV6Hyod",
        "outputId": "b39c5427-350f-4a1b-cae8-db7a7c0d51a1"
      },
      "source": [
        "import pandas as pd\n",
        "import numpy as np\n",
        "import seaborn as sns\n",
        "import nltk\n",
        "from nltk.corpus import stopwords\n",
        "nltk.download('stopwords')\n",
        "\n",
        "pd.options.display.max_columns = None\n",
        "from scipy import stats\n",
        "from ast import literal_eval\n",
        "from sklearn.feature_extraction.text import TfidfVectorizer #For tf-idf feature matrix\n",
        "from sklearn.metrics.pairwise import linear_kernel #For pairwise product of two matrices"
      ],
      "execution_count": null,
      "outputs": [
        {
          "output_type": "stream",
          "text": [
            "[nltk_data] Downloading package stopwords to /root/nltk_data...\n",
            "[nltk_data]   Unzipping corpora/stopwords.zip.\n"
          ],
          "name": "stdout"
        }
      ]
    },
    {
      "cell_type": "code",
      "metadata": {
        "id": "H7lCjTWwQDR6",
        "colab": {
          "base_uri": "https://localhost:8080/"
        },
        "outputId": "7adea7be-f46d-4c53-db92-31335b40eb54"
      },
      "source": [
        "from google.colab import drive\n",
        "drive.mount('/content/drive')"
      ],
      "execution_count": null,
      "outputs": [
        {
          "output_type": "stream",
          "text": [
            "Mounted at /content/drive\n"
          ],
          "name": "stdout"
        }
      ]
    },
    {
      "cell_type": "code",
      "metadata": {
        "id": "EBQp3888H8-C"
      },
      "source": [
        "stop = stopwords.words('english')    \n",
        "path = 'drive/MyDrive/rs_data/'\n",
        "name_basics = pd.read_csv(path + 'name_basics.tsv',sep='\\t',low_memory=False)\n",
        "title_basics = pd.read_csv(path + 'title_basics.tsv',sep='\\t',low_memory=False)\n",
        "title_ratings = pd.read_csv(path + 'title_ratings.tsv',sep = '\\t',low_memory=False)\n",
        "title_crew = pd.read_csv(path + 'title_crew.tsv',sep = '\\t',low_memory=False)"
      ],
      "execution_count": null,
      "outputs": []
    },
    {
      "cell_type": "code",
      "metadata": {
        "colab": {
          "base_uri": "https://localhost:8080/",
          "height": 274
        },
        "id": "A7u9nzs7aNAd",
        "outputId": "495a0ad3-26dc-4746-f7eb-99e5fa593fa5"
      },
      "source": [
        "name_basics.head()"
      ],
      "execution_count": null,
      "outputs": [
        {
          "output_type": "execute_result",
          "data": {
            "text/html": [
              "<div>\n",
              "<style scoped>\n",
              "    .dataframe tbody tr th:only-of-type {\n",
              "        vertical-align: middle;\n",
              "    }\n",
              "\n",
              "    .dataframe tbody tr th {\n",
              "        vertical-align: top;\n",
              "    }\n",
              "\n",
              "    .dataframe thead th {\n",
              "        text-align: right;\n",
              "    }\n",
              "</style>\n",
              "<table border=\"1\" class=\"dataframe\">\n",
              "  <thead>\n",
              "    <tr style=\"text-align: right;\">\n",
              "      <th></th>\n",
              "      <th>nconst</th>\n",
              "      <th>primaryName</th>\n",
              "      <th>birthYear</th>\n",
              "      <th>deathYear</th>\n",
              "      <th>primaryProfession</th>\n",
              "      <th>knownForTitles</th>\n",
              "    </tr>\n",
              "  </thead>\n",
              "  <tbody>\n",
              "    <tr>\n",
              "      <th>0</th>\n",
              "      <td>nm0000001</td>\n",
              "      <td>Fred Astaire</td>\n",
              "      <td>1899</td>\n",
              "      <td>1987</td>\n",
              "      <td>soundtrack,actor,miscellaneous</td>\n",
              "      <td>tt0072308,tt0031983,tt0050419,tt0053137</td>\n",
              "    </tr>\n",
              "    <tr>\n",
              "      <th>1</th>\n",
              "      <td>nm0000002</td>\n",
              "      <td>Lauren Bacall</td>\n",
              "      <td>1924</td>\n",
              "      <td>2014</td>\n",
              "      <td>actress,soundtrack</td>\n",
              "      <td>tt0117057,tt0038355,tt0037382,tt0071877</td>\n",
              "    </tr>\n",
              "    <tr>\n",
              "      <th>2</th>\n",
              "      <td>nm0000003</td>\n",
              "      <td>Brigitte Bardot</td>\n",
              "      <td>1934</td>\n",
              "      <td>\\N</td>\n",
              "      <td>actress,soundtrack,music_department</td>\n",
              "      <td>tt0056404,tt0057345,tt0049189,tt0054452</td>\n",
              "    </tr>\n",
              "    <tr>\n",
              "      <th>3</th>\n",
              "      <td>nm0000004</td>\n",
              "      <td>John Belushi</td>\n",
              "      <td>1949</td>\n",
              "      <td>1982</td>\n",
              "      <td>actor,soundtrack,writer</td>\n",
              "      <td>tt0072562,tt0078723,tt0080455,tt0077975</td>\n",
              "    </tr>\n",
              "    <tr>\n",
              "      <th>4</th>\n",
              "      <td>nm0000005</td>\n",
              "      <td>Ingmar Bergman</td>\n",
              "      <td>1918</td>\n",
              "      <td>2007</td>\n",
              "      <td>writer,director,actor</td>\n",
              "      <td>tt0069467,tt0060827,tt0050986,tt0050976</td>\n",
              "    </tr>\n",
              "  </tbody>\n",
              "</table>\n",
              "</div>"
            ],
            "text/plain": [
              "      nconst      primaryName birthYear deathYear  \\\n",
              "0  nm0000001     Fred Astaire      1899      1987   \n",
              "1  nm0000002    Lauren Bacall      1924      2014   \n",
              "2  nm0000003  Brigitte Bardot      1934        \\N   \n",
              "3  nm0000004     John Belushi      1949      1982   \n",
              "4  nm0000005   Ingmar Bergman      1918      2007   \n",
              "\n",
              "                     primaryProfession  \\\n",
              "0       soundtrack,actor,miscellaneous   \n",
              "1                   actress,soundtrack   \n",
              "2  actress,soundtrack,music_department   \n",
              "3              actor,soundtrack,writer   \n",
              "4                writer,director,actor   \n",
              "\n",
              "                            knownForTitles  \n",
              "0  tt0072308,tt0031983,tt0050419,tt0053137  \n",
              "1  tt0117057,tt0038355,tt0037382,tt0071877  \n",
              "2  tt0056404,tt0057345,tt0049189,tt0054452  \n",
              "3  tt0072562,tt0078723,tt0080455,tt0077975  \n",
              "4  tt0069467,tt0060827,tt0050986,tt0050976  "
            ]
          },
          "metadata": {
            "tags": []
          },
          "execution_count": 4
        }
      ]
    },
    {
      "cell_type": "code",
      "metadata": {
        "colab": {
          "base_uri": "https://localhost:8080/",
          "height": 257
        },
        "id": "RMzlMcc5cMIg",
        "outputId": "de5b5114-ea88-4cbe-86ae-cba39afe326a"
      },
      "source": [
        "title_basics.head()"
      ],
      "execution_count": null,
      "outputs": [
        {
          "output_type": "execute_result",
          "data": {
            "text/html": [
              "<div>\n",
              "<style scoped>\n",
              "    .dataframe tbody tr th:only-of-type {\n",
              "        vertical-align: middle;\n",
              "    }\n",
              "\n",
              "    .dataframe tbody tr th {\n",
              "        vertical-align: top;\n",
              "    }\n",
              "\n",
              "    .dataframe thead th {\n",
              "        text-align: right;\n",
              "    }\n",
              "</style>\n",
              "<table border=\"1\" class=\"dataframe\">\n",
              "  <thead>\n",
              "    <tr style=\"text-align: right;\">\n",
              "      <th></th>\n",
              "      <th>tconst</th>\n",
              "      <th>titleType</th>\n",
              "      <th>primaryTitle</th>\n",
              "      <th>originalTitle</th>\n",
              "      <th>isAdult</th>\n",
              "      <th>startYear</th>\n",
              "      <th>endYear</th>\n",
              "      <th>runtimeMinutes</th>\n",
              "      <th>genres</th>\n",
              "    </tr>\n",
              "  </thead>\n",
              "  <tbody>\n",
              "    <tr>\n",
              "      <th>0</th>\n",
              "      <td>tt0000001</td>\n",
              "      <td>short</td>\n",
              "      <td>Carmencita</td>\n",
              "      <td>Carmencita</td>\n",
              "      <td>0</td>\n",
              "      <td>1894</td>\n",
              "      <td>\\N</td>\n",
              "      <td>1</td>\n",
              "      <td>Documentary,Short</td>\n",
              "    </tr>\n",
              "    <tr>\n",
              "      <th>1</th>\n",
              "      <td>tt0000002</td>\n",
              "      <td>short</td>\n",
              "      <td>Le clown et ses chiens</td>\n",
              "      <td>Le clown et ses chiens</td>\n",
              "      <td>0</td>\n",
              "      <td>1892</td>\n",
              "      <td>\\N</td>\n",
              "      <td>5</td>\n",
              "      <td>Animation,Short</td>\n",
              "    </tr>\n",
              "    <tr>\n",
              "      <th>2</th>\n",
              "      <td>tt0000003</td>\n",
              "      <td>short</td>\n",
              "      <td>Pauvre Pierrot</td>\n",
              "      <td>Pauvre Pierrot</td>\n",
              "      <td>0</td>\n",
              "      <td>1892</td>\n",
              "      <td>\\N</td>\n",
              "      <td>4</td>\n",
              "      <td>Animation,Comedy,Romance</td>\n",
              "    </tr>\n",
              "    <tr>\n",
              "      <th>3</th>\n",
              "      <td>tt0000004</td>\n",
              "      <td>short</td>\n",
              "      <td>Un bon bock</td>\n",
              "      <td>Un bon bock</td>\n",
              "      <td>0</td>\n",
              "      <td>1892</td>\n",
              "      <td>\\N</td>\n",
              "      <td>12</td>\n",
              "      <td>Animation,Short</td>\n",
              "    </tr>\n",
              "    <tr>\n",
              "      <th>4</th>\n",
              "      <td>tt0000005</td>\n",
              "      <td>short</td>\n",
              "      <td>Blacksmith Scene</td>\n",
              "      <td>Blacksmith Scene</td>\n",
              "      <td>0</td>\n",
              "      <td>1893</td>\n",
              "      <td>\\N</td>\n",
              "      <td>1</td>\n",
              "      <td>Comedy,Short</td>\n",
              "    </tr>\n",
              "  </tbody>\n",
              "</table>\n",
              "</div>"
            ],
            "text/plain": [
              "      tconst titleType            primaryTitle           originalTitle  \\\n",
              "0  tt0000001     short              Carmencita              Carmencita   \n",
              "1  tt0000002     short  Le clown et ses chiens  Le clown et ses chiens   \n",
              "2  tt0000003     short          Pauvre Pierrot          Pauvre Pierrot   \n",
              "3  tt0000004     short             Un bon bock             Un bon bock   \n",
              "4  tt0000005     short        Blacksmith Scene        Blacksmith Scene   \n",
              "\n",
              "  isAdult startYear endYear runtimeMinutes                    genres  \n",
              "0       0      1894      \\N              1         Documentary,Short  \n",
              "1       0      1892      \\N              5           Animation,Short  \n",
              "2       0      1892      \\N              4  Animation,Comedy,Romance  \n",
              "3       0      1892      \\N             12           Animation,Short  \n",
              "4       0      1893      \\N              1              Comedy,Short  "
            ]
          },
          "metadata": {
            "tags": []
          },
          "execution_count": 5
        }
      ]
    },
    {
      "cell_type": "code",
      "metadata": {
        "colab": {
          "base_uri": "https://localhost:8080/",
          "height": 202
        },
        "id": "2LDHpx8xcPUQ",
        "outputId": "cb81dafe-701b-4871-f002-eb5eefa60883"
      },
      "source": [
        "title_ratings.head()"
      ],
      "execution_count": null,
      "outputs": [
        {
          "output_type": "execute_result",
          "data": {
            "text/html": [
              "<div>\n",
              "<style scoped>\n",
              "    .dataframe tbody tr th:only-of-type {\n",
              "        vertical-align: middle;\n",
              "    }\n",
              "\n",
              "    .dataframe tbody tr th {\n",
              "        vertical-align: top;\n",
              "    }\n",
              "\n",
              "    .dataframe thead th {\n",
              "        text-align: right;\n",
              "    }\n",
              "</style>\n",
              "<table border=\"1\" class=\"dataframe\">\n",
              "  <thead>\n",
              "    <tr style=\"text-align: right;\">\n",
              "      <th></th>\n",
              "      <th>tconst</th>\n",
              "      <th>averageRating</th>\n",
              "      <th>numVotes</th>\n",
              "    </tr>\n",
              "  </thead>\n",
              "  <tbody>\n",
              "    <tr>\n",
              "      <th>0</th>\n",
              "      <td>tt0000001</td>\n",
              "      <td>5.7</td>\n",
              "      <td>1702</td>\n",
              "    </tr>\n",
              "    <tr>\n",
              "      <th>1</th>\n",
              "      <td>tt0000002</td>\n",
              "      <td>6.1</td>\n",
              "      <td>210</td>\n",
              "    </tr>\n",
              "    <tr>\n",
              "      <th>2</th>\n",
              "      <td>tt0000003</td>\n",
              "      <td>6.5</td>\n",
              "      <td>1458</td>\n",
              "    </tr>\n",
              "    <tr>\n",
              "      <th>3</th>\n",
              "      <td>tt0000004</td>\n",
              "      <td>6.2</td>\n",
              "      <td>123</td>\n",
              "    </tr>\n",
              "    <tr>\n",
              "      <th>4</th>\n",
              "      <td>tt0000005</td>\n",
              "      <td>6.2</td>\n",
              "      <td>2260</td>\n",
              "    </tr>\n",
              "  </tbody>\n",
              "</table>\n",
              "</div>"
            ],
            "text/plain": [
              "      tconst  averageRating  numVotes\n",
              "0  tt0000001            5.7      1702\n",
              "1  tt0000002            6.1       210\n",
              "2  tt0000003            6.5      1458\n",
              "3  tt0000004            6.2       123\n",
              "4  tt0000005            6.2      2260"
            ]
          },
          "metadata": {
            "tags": []
          },
          "execution_count": 6
        }
      ]
    },
    {
      "cell_type": "code",
      "metadata": {
        "colab": {
          "base_uri": "https://localhost:8080/",
          "height": 202
        },
        "id": "nBpruCS8cSz0",
        "outputId": "d2c82d00-8ee8-4946-aa82-062f0a143ab5"
      },
      "source": [
        "title_crew.head()"
      ],
      "execution_count": null,
      "outputs": [
        {
          "output_type": "execute_result",
          "data": {
            "text/html": [
              "<div>\n",
              "<style scoped>\n",
              "    .dataframe tbody tr th:only-of-type {\n",
              "        vertical-align: middle;\n",
              "    }\n",
              "\n",
              "    .dataframe tbody tr th {\n",
              "        vertical-align: top;\n",
              "    }\n",
              "\n",
              "    .dataframe thead th {\n",
              "        text-align: right;\n",
              "    }\n",
              "</style>\n",
              "<table border=\"1\" class=\"dataframe\">\n",
              "  <thead>\n",
              "    <tr style=\"text-align: right;\">\n",
              "      <th></th>\n",
              "      <th>tconst</th>\n",
              "      <th>directors</th>\n",
              "      <th>writers</th>\n",
              "    </tr>\n",
              "  </thead>\n",
              "  <tbody>\n",
              "    <tr>\n",
              "      <th>0</th>\n",
              "      <td>tt0000001</td>\n",
              "      <td>nm0005690</td>\n",
              "      <td>\\N</td>\n",
              "    </tr>\n",
              "    <tr>\n",
              "      <th>1</th>\n",
              "      <td>tt0000002</td>\n",
              "      <td>nm0721526</td>\n",
              "      <td>\\N</td>\n",
              "    </tr>\n",
              "    <tr>\n",
              "      <th>2</th>\n",
              "      <td>tt0000003</td>\n",
              "      <td>nm0721526</td>\n",
              "      <td>\\N</td>\n",
              "    </tr>\n",
              "    <tr>\n",
              "      <th>3</th>\n",
              "      <td>tt0000004</td>\n",
              "      <td>nm0721526</td>\n",
              "      <td>\\N</td>\n",
              "    </tr>\n",
              "    <tr>\n",
              "      <th>4</th>\n",
              "      <td>tt0000005</td>\n",
              "      <td>nm0005690</td>\n",
              "      <td>\\N</td>\n",
              "    </tr>\n",
              "  </tbody>\n",
              "</table>\n",
              "</div>"
            ],
            "text/plain": [
              "      tconst  directors writers\n",
              "0  tt0000001  nm0005690      \\N\n",
              "1  tt0000002  nm0721526      \\N\n",
              "2  tt0000003  nm0721526      \\N\n",
              "3  tt0000004  nm0721526      \\N\n",
              "4  tt0000005  nm0005690      \\N"
            ]
          },
          "metadata": {
            "tags": []
          },
          "execution_count": 7
        }
      ]
    },
    {
      "cell_type": "code",
      "metadata": {
        "id": "jKfeYvraIKMT",
        "colab": {
          "base_uri": "https://localhost:8080/",
          "height": 202
        },
        "outputId": "39942d58-cbc3-430e-cf26-eaef233a8976"
      },
      "source": [
        "# Preprocessing data\n",
        "#Replacing unknown values with NaN \n",
        "name_basics.replace(to_replace = r'\\N', value = np.nan, inplace = True)\n",
        "title_basics.replace(to_replace = r'\\N', value = np.nan, inplace = True)\n",
        "title_ratings.replace(to_replace = r'\\N', value = np.nan, inplace = True)\n",
        "title_crew.replace(to_replace = r'\\N', value = np.nan, inplace = True)\n",
        "\n",
        "#print(title_basics)\n",
        "\n",
        "#Merging title_basics and title_ratings dataframes\n",
        "title_new = pd.merge(title_basics, title_ratings, on='tconst')\n",
        "\n",
        "#Dropping columns originalTitle, isAdult, endYear and runtimeMinutes from title_new\n",
        "title_new.drop(['originalTitle','isAdult','endYear','runtimeMinutes'],axis=1,inplace=True)\n",
        "\n",
        "#Dropping birthYear and deathYear from name_basics\n",
        "name_basics.drop(['birthYear','deathYear'],axis=1,inplace=True)\n",
        "\n",
        "title_new.head()\n",
        "#print(\"Name_basics\")\n",
        "#name_basics.head()"
      ],
      "execution_count": null,
      "outputs": [
        {
          "output_type": "execute_result",
          "data": {
            "text/html": [
              "<div>\n",
              "<style scoped>\n",
              "    .dataframe tbody tr th:only-of-type {\n",
              "        vertical-align: middle;\n",
              "    }\n",
              "\n",
              "    .dataframe tbody tr th {\n",
              "        vertical-align: top;\n",
              "    }\n",
              "\n",
              "    .dataframe thead th {\n",
              "        text-align: right;\n",
              "    }\n",
              "</style>\n",
              "<table border=\"1\" class=\"dataframe\">\n",
              "  <thead>\n",
              "    <tr style=\"text-align: right;\">\n",
              "      <th></th>\n",
              "      <th>tconst</th>\n",
              "      <th>titleType</th>\n",
              "      <th>primaryTitle</th>\n",
              "      <th>startYear</th>\n",
              "      <th>genres</th>\n",
              "      <th>averageRating</th>\n",
              "      <th>numVotes</th>\n",
              "    </tr>\n",
              "  </thead>\n",
              "  <tbody>\n",
              "    <tr>\n",
              "      <th>0</th>\n",
              "      <td>tt0000001</td>\n",
              "      <td>short</td>\n",
              "      <td>Carmencita</td>\n",
              "      <td>1894</td>\n",
              "      <td>Documentary,Short</td>\n",
              "      <td>5.7</td>\n",
              "      <td>1702</td>\n",
              "    </tr>\n",
              "    <tr>\n",
              "      <th>1</th>\n",
              "      <td>tt0000002</td>\n",
              "      <td>short</td>\n",
              "      <td>Le clown et ses chiens</td>\n",
              "      <td>1892</td>\n",
              "      <td>Animation,Short</td>\n",
              "      <td>6.1</td>\n",
              "      <td>210</td>\n",
              "    </tr>\n",
              "    <tr>\n",
              "      <th>2</th>\n",
              "      <td>tt0000003</td>\n",
              "      <td>short</td>\n",
              "      <td>Pauvre Pierrot</td>\n",
              "      <td>1892</td>\n",
              "      <td>Animation,Comedy,Romance</td>\n",
              "      <td>6.5</td>\n",
              "      <td>1458</td>\n",
              "    </tr>\n",
              "    <tr>\n",
              "      <th>3</th>\n",
              "      <td>tt0000004</td>\n",
              "      <td>short</td>\n",
              "      <td>Un bon bock</td>\n",
              "      <td>1892</td>\n",
              "      <td>Animation,Short</td>\n",
              "      <td>6.2</td>\n",
              "      <td>123</td>\n",
              "    </tr>\n",
              "    <tr>\n",
              "      <th>4</th>\n",
              "      <td>tt0000005</td>\n",
              "      <td>short</td>\n",
              "      <td>Blacksmith Scene</td>\n",
              "      <td>1893</td>\n",
              "      <td>Comedy,Short</td>\n",
              "      <td>6.2</td>\n",
              "      <td>2260</td>\n",
              "    </tr>\n",
              "  </tbody>\n",
              "</table>\n",
              "</div>"
            ],
            "text/plain": [
              "      tconst titleType            primaryTitle startYear  \\\n",
              "0  tt0000001     short              Carmencita      1894   \n",
              "1  tt0000002     short  Le clown et ses chiens      1892   \n",
              "2  tt0000003     short          Pauvre Pierrot      1892   \n",
              "3  tt0000004     short             Un bon bock      1892   \n",
              "4  tt0000005     short        Blacksmith Scene      1893   \n",
              "\n",
              "                     genres  averageRating  numVotes  \n",
              "0         Documentary,Short            5.7      1702  \n",
              "1           Animation,Short            6.1       210  \n",
              "2  Animation,Comedy,Romance            6.5      1458  \n",
              "3           Animation,Short            6.2       123  \n",
              "4              Comedy,Short            6.2      2260  "
            ]
          },
          "metadata": {
            "tags": []
          },
          "execution_count": 8
        }
      ]
    },
    {
      "cell_type": "code",
      "metadata": {
        "id": "roojOk2fT08J"
      },
      "source": [
        "#Dropping startYear and genres columns from title_new\n",
        "title_new.dropna(subset = ['startYear','genres'],inplace = True)\n",
        "#Merged title_new to title_crew\n",
        "title_new = pd.merge(title_new,title_crew,on='tconst')"
      ],
      "execution_count": null,
      "outputs": []
    },
    {
      "cell_type": "code",
      "metadata": {
        "id": "MqUQf7RsT5G2",
        "colab": {
          "base_uri": "https://localhost:8080/"
        },
        "outputId": "988bfcf1-7b03-4096-df5e-319d0de99aab"
      },
      "source": [
        "title_new['startYear'] = title_new['startYear'].astype(int)\n",
        "\n",
        "#Calculating popularity for every movie based on averageRating and number of votes\n",
        "title_new['Popularity'] = title_new['averageRating']/title_new['averageRating'].mean()+title_new['numVotes']/title_new['numVotes'].mean()\n",
        "\n",
        "#Retain the movies which have popularity > the mean value\n",
        "title_new = title_new[title_new['Popularity']>=title_new['Popularity'].mean()]\n",
        "\n",
        "#Remove movies which have titleType as tvEpisode or short\n",
        "title_new = title_new[title_new['titleType'] != 'tvEpisode']\n",
        "title_new = title_new[title_new['titleType'] != 'short']\n",
        "\n",
        "#Converting primaryTitle to lowercase and joining the remaining words which are not stopwords\n",
        "title_new['primaryTitle'] = title_new['primaryTitle'].str.lower()\n",
        "title_new['primaryTitle'] = title_new['primaryTitle'].apply(lambda x: ' '.join([word for word in x.split() if word not in (stop)]))\n",
        "\n",
        "#Creating tags column based on primaryTitle, genres, directors and writers\n",
        "title_new['tags']=title_new['primaryTitle'].map(str)+','+title_new['genres']+','+title_new['directors'].map(str)+','+title_new['writers']\n",
        "\n",
        "#Dropping the 4 columns\n",
        "title_new.drop(['primaryTitle','genres','directors','writers'],axis=1,inplace=True)\n",
        "print(title_new)\n",
        "title_new.shape"
      ],
      "execution_count": null,
      "outputs": [
        {
          "output_type": "stream",
          "text": [
            "            tconst titleType  startYear  averageRating  numVotes  Popularity  \\\n",
            "971      tt0002130     movie       1911            7.0      2451    3.533768   \n",
            "1158     tt0002844     movie       1913            7.0      2049    3.120299   \n",
            "1188     tt0003014     movie       1913            7.0      1045    2.087653   \n",
            "1193     tt0003037     movie       1913            7.0      1410    2.463067   \n",
            "1213     tt0003165     movie       1913            7.0      1097    2.141136   \n",
            "...            ...       ...        ...            ...       ...         ...   \n",
            "1128791  tt9900782     movie       2019            8.5     14004   15.633431   \n",
            "1128810  tt9902160     movie       2020            7.0      1923    2.990704   \n",
            "1128976  tt9908860  tvSeries       2019            7.1      2308    3.401157   \n",
            "1129071  tt9911196     movie       2020            7.6      1787    2.937638   \n",
            "1129264  tt9916362     movie       2020            6.3      3218    4.221368   \n",
            "\n",
            "                                                      tags  \n",
            "971      dante's inferno,Adventure,Drama,Fantasy,nm0655...  \n",
            "1158     fantômas: shadow guillotine,Crime,Drama,nm0275...  \n",
            "1188     ingeborg holm,Drama,nm0803705,nm0472236,nm0803705  \n",
            "1193     fantomas: man black,Crime,Drama,nm0275421,nm00...  \n",
            "1213     fantômas: dead man killed,Crime,Drama,Mystery,...  \n",
            "...                                                    ...  \n",
            "1128791  kaithi,Action,Thriller,nm7992231,nm7992231,nm7...  \n",
            "1128810               ,Drama,nm1630273,nm7434342,nm0132696  \n",
            "1128976  blown away,Reality-TV,nm2039645,nm2039645,nm18...  \n",
            "1129071  marriage escape,Comedy,Drama,nm0631590,nm20631...  \n",
            "1129264  coven,Adventure,Drama,History,nm1893148,nm1893...  \n",
            "\n",
            "[43568 rows x 7 columns]\n"
          ],
          "name": "stdout"
        },
        {
          "output_type": "execute_result",
          "data": {
            "text/plain": [
              "(43568, 7)"
            ]
          },
          "metadata": {
            "tags": []
          },
          "execution_count": 10
        }
      ]
    },
    {
      "cell_type": "code",
      "metadata": {
        "id": "tLgTHk1NT_8Q",
        "colab": {
          "base_uri": "https://localhost:8080/"
        },
        "outputId": "88a4f16c-d479-466c-d163-296e4000d71d"
      },
      "source": [
        "#Converting dataframe to csv file\n",
        "title_new.to_csv('newframe.tsv',index=False,sep='\\t')\n",
        "print('-----------------Preprocessing done------------------')"
      ],
      "execution_count": null,
      "outputs": [
        {
          "output_type": "stream",
          "text": [
            "-----------------Preprocessing done------------------\n"
          ],
          "name": "stdout"
        }
      ]
    },
    {
      "cell_type": "code",
      "metadata": {
        "id": "lNhez0OjoX7I"
      },
      "source": [
        "def main(test_title):\n",
        "    print('----------------Running the recommendation engine-----------------')\n",
        "    df = pd.read_csv('newframe.tsv',sep='\\t')\n",
        "    title_basics = pd.read_csv(path + 'title_basics.tsv',sep='\\t', low_memory=False)\n",
        "\n",
        "    #Creating new_df which have movies with averagerating>6.5 and startYear>2000\n",
        "    new_df = df[(df.averageRating >6.5) & (df.startYear >2000)]\n",
        "    #print(new_df)\n",
        "\n",
        "    #Computing the TF_IDF matrix based on the term frequency in the 'tags' column\n",
        "    tf = TfidfVectorizer(analyzer='word',ngram_range=(1, 2),min_df=0, stop_words='english')\n",
        "    #print(\"tf done\")\n",
        "    tfidf_matrix = tf.fit_transform(new_df['tags'].values.astype('U'))\n",
        "    T = tfidf_matrix\n",
        "    #print(T)\n",
        "\n",
        "    #Similarity matrix using the dot product\n",
        "    cosine_similarity_matrix = linear_kernel(T,T)\n",
        "    #print(\"cosine sim done\")\n",
        "\n",
        "    #Indexing the new_dataframe to accesses the relavant Titles with their IDs\n",
        "    new_df = new_df.reset_index()\n",
        "    titles = new_df['tconst']\n",
        "    indices = pd.Series(new_df.index, index = new_df['tconst'])\n",
        "    print(indices)\n",
        "    \n",
        "    #Input: title id\n",
        "    #Output: 10 similar movies based on the similarity scores\n",
        "    def recommend(test_title):\n",
        "        #print(\"inside recommend function\")\n",
        "        idx = indices[test_title]\n",
        "        sim_scores = list(enumerate(cosine_similarity_matrix[idx]))\n",
        "        sim_scores = sorted(sim_scores, key=lambda x: x[1], reverse=True)\n",
        "        sim_scores = sim_scores[1:11]\n",
        "        movie_indices = [i[0] for i in sim_scores]\n",
        "        return titles.iloc[movie_indices]\n",
        "    \n",
        "    recommendations = recommend(test_title)\n",
        "\n",
        "    # Creating lookup table for post_processing\n",
        "    title_lookup = title_basics.loc[title_basics['tconst'].isin(new_df['tconst'])]\n",
        "    title_lookup.drop(['originalTitle','isAdult','endYear','runtimeMinutes'],axis=1,inplace=True)\n",
        "    title_lookup.head()\n",
        "    title_lookup.to_csv('title_lookup.csv',index=False)\n",
        "    \n",
        "    post_process(recommendations)"
      ],
      "execution_count": null,
      "outputs": []
    },
    {
      "cell_type": "code",
      "metadata": {
        "id": "vbDUnnuEqODc"
      },
      "source": [
        "def post_process(recommendations):\n",
        "    title_lookup = pd.read_csv('title_lookup.csv',low_memory=False)\n",
        "    \n",
        "    #Printing the rows of recommendations\n",
        "    for r in recommendations:\n",
        "        row = title_lookup.loc[title_lookup['tconst']==r]\n",
        "        row.drop(['tconst'],axis=1)\n",
        "        print('\\n')\n",
        "        print(row)"
      ],
      "execution_count": null,
      "outputs": []
    },
    {
      "cell_type": "code",
      "metadata": {
        "id": "d-DGzSLDUDH9",
        "colab": {
          "base_uri": "https://localhost:8080/"
        },
        "outputId": "1abb80d4-284c-4607-f4b0-dc31427b65df"
      },
      "source": [
        "test = input('Enter tconst of title: ')\n",
        "\n",
        "main(test)\n"
      ],
      "execution_count": null,
      "outputs": [
        {
          "output_type": "stream",
          "text": [
            "Enter tconst of title: tt0069049\n",
            "----------------Running the recommendation engine-----------------\n",
            "tconst\n",
            "tt0069049        0\n",
            "tt0118926        1\n",
            "tt0118983        2\n",
            "tt0120679        3\n",
            "tt0120681        4\n",
            "             ...  \n",
            "tt9900092    15347\n",
            "tt9900782    15348\n",
            "tt9902160    15349\n",
            "tt9908860    15350\n",
            "tt9911196    15351\n",
            "Length: 15352, dtype: int64\n"
          ],
          "name": "stdout"
        },
        {
          "output_type": "stream",
          "text": [
            "/usr/local/lib/python3.7/dist-packages/pandas/core/frame.py:4174: SettingWithCopyWarning: \n",
            "A value is trying to be set on a copy of a slice from a DataFrame\n",
            "\n",
            "See the caveats in the documentation: https://pandas.pydata.org/pandas-docs/stable/user_guide/indexing.html#returning-a-view-versus-a-copy\n",
            "  errors=errors,\n"
          ],
          "name": "stderr"
        },
        {
          "output_type": "stream",
          "text": [
            "\n",
            "\n",
            "          tconst titleType primaryTitle  startYear genres\n",
            "13038  tt6143422     movie    Dark Wind       2017  Drama\n",
            "\n",
            "\n",
            "         tconst titleType            primaryTitle  startYear         genres\n",
            "7502  tt1757050  tvSeries  In the Eye of the Wind       2008  Drama,History\n",
            "\n",
            "\n",
            "         tconst     titleType                 primaryTitle  startYear genres\n",
            "9656  tt2806646  tvMiniSeries  That Winter, the Wind Blows       2013  Drama\n",
            "\n",
            "\n",
            "          tconst titleType primaryTitle  startYear               genres\n",
            "12310  tt5362988     movie   Wind River       2017  Crime,Drama,Mystery\n",
            "\n",
            "\n",
            "         tconst titleType                     primaryTitle  startYear  \\\n",
            "2670  tt0460989     movie  The Wind that Shakes the Barley       2006   \n",
            "\n",
            "         genres  \n",
            "2670  Drama,War  \n",
            "\n",
            "\n",
            "         tconst titleType       primaryTitle  startYear       genres\n",
            "6400  tt1426374     movie  The Wind Journeys       2009  Drama,Music\n",
            "\n",
            "\n",
            "         tconst titleType    primaryTitle  startYear  \\\n",
            "8163  tt2013293     movie  The Wind Rises       2013   \n",
            "\n",
            "                         genres  \n",
            "8163  Animation,Biography,Drama  \n",
            "\n",
            "\n",
            "        tconst titleType            primaryTitle  startYear        genres\n",
            "987  tt0331175     movie  Any Way the Wind Blows       2003  Comedy,Drama\n",
            "\n",
            "\n",
            "          tconst titleType primaryTitle  startYear                genres\n",
            "12153  tt5207158     movie   South Wind       2018  Crime,Drama,Thriller\n",
            "\n",
            "\n",
            "         tconst titleType         primaryTitle  startYear  \\\n",
            "2035  tt0416499     movie  Fighter in the Wind       2004   \n",
            "\n",
            "                      genres  \n",
            "2035  Action,Biography,Drama  \n"
          ],
          "name": "stdout"
        }
      ]
    },
    {
      "cell_type": "code",
      "metadata": {
        "id": "NpuOcXCcVoWT"
      },
      "source": [
        ""
      ],
      "execution_count": null,
      "outputs": []
    }
  ]
}